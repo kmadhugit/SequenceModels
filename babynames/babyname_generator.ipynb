{
 "cells": [
  {
   "cell_type": "markdown",
   "metadata": {},
   "source": [
    "# <center> Generate baby names </center>"
   ]
  },
  {
   "cell_type": "markdown",
   "metadata": {},
   "source": [
    "## Keras with TF background"
   ]
  },
  {
   "cell_type": "code",
   "execution_count": 1,
   "metadata": {
    "ExecuteTime": {
     "end_time": "2018-11-21T12:09:16.308479Z",
     "start_time": "2018-11-21T12:09:14.632084Z"
    }
   },
   "outputs": [
    {
     "name": "stderr",
     "output_type": "stream",
     "text": [
      "Using TensorFlow backend.\n"
     ]
    }
   ],
   "source": [
    "import numpy as np\n",
    "from keras.models import Sequential\n",
    "from keras.layers import LSTM, Dense, Activation,Dropout\n",
    "from keras.callbacks import ModelCheckpoint,Callback\n",
    "from keras.utils import to_categorical,multi_gpu_model\n",
    "from keras.models import model_from_yaml\n",
    "from random import randint\n"
   ]
  },
  {
   "cell_type": "markdown",
   "metadata": {},
   "source": [
    "## Corpus\n",
    "    - data    : raw string input data\n",
    "    - vocab   : vocabulary\n",
    "    - encoder : python dictionary. { 'char' : index }\n",
    "    - decoder : python dictionary. { index  : 'char'}\n",
    "    - Tx      : timestep\n",
    "    - m       : Number of samples\n",
    "    - Vx      : Length of the vocabular or Channel Length after encoding\n",
    "    - X       : Features\n",
    "    - Y       : Labels"
   ]
  },
  {
   "cell_type": "code",
   "execution_count": 2,
   "metadata": {
    "ExecuteTime": {
     "end_time": "2018-11-21T12:09:18.179821Z",
     "start_time": "2018-11-21T12:09:18.162453Z"
    }
   },
   "outputs": [],
   "source": [
    "class corpus:\n",
    "    def __init__(self):\n",
    "        self.data    = \"\"\n",
    "        self.vocab   = \"\"\n",
    "        \n",
    "        self.encoder = None\n",
    "        self.decoder = None\n",
    "        \n",
    "        self.Tx      = 0\n",
    "        self.m       = 0\n",
    "        self.Vx      = 0\n",
    "        \n",
    "        self.X       = []\n",
    "        self.Y       = []\n",
    "        \n",
    "    def __str__(self):\n",
    "        s = ''\n",
    "        s += f'Number of Examples  m  = {self.m}\\n'\n",
    "        s += f'Number of Timesteps Tx = {self.Tx}\\n'\n",
    "        s += f'Vocabulary Length   Vx = {self.Vx}\\n'\n",
    "        return s\n",
    "     \n"
   ]
  },
  {
   "cell_type": "code",
   "execution_count": 3,
   "metadata": {
    "ExecuteTime": {
     "end_time": "2018-11-21T12:09:18.828516Z",
     "start_time": "2018-11-21T12:09:18.826893Z"
    }
   },
   "outputs": [],
   "source": [
    "crp = corpus() "
   ]
  },
  {
   "cell_type": "markdown",
   "metadata": {},
   "source": [
    "## Read the file to populate data and vocabulary"
   ]
  },
  {
   "cell_type": "code",
   "execution_count": 4,
   "metadata": {
    "ExecuteTime": {
     "end_time": "2018-11-21T12:09:19.994127Z",
     "start_time": "2018-11-21T12:09:19.989924Z"
    }
   },
   "outputs": [],
   "source": [
    "def load_data(fpath):\n",
    "    with open(fpath) as corpus_file:\n",
    "        data = corpus_file.read().lower()\n",
    "    vocab = sorted(list(set(data)))\n",
    "    return data,vocab"
   ]
  },
  {
   "cell_type": "code",
   "execution_count": 5,
   "metadata": {
    "ExecuteTime": {
     "end_time": "2018-11-21T12:09:20.571866Z",
     "start_time": "2018-11-21T12:09:20.570000Z"
    }
   },
   "outputs": [
    {
     "name": "stdout",
     "output_type": "stream",
     "text": [
      "data sample = 'aamir\n",
      "aaron\n",
      "abbey\n",
      "ab' data len = 55869 vocab = ['\\n', ' ', \"'\", '-', 'a', 'b', 'c', 'd', 'e', 'f', 'g', 'h', 'i', 'j', 'k', 'l', 'm', 'n', 'o', 'p', 'q', 'r', 's', 't', 'u', 'v', 'w', 'x', 'y', 'z'] vocab_len = 30\n"
     ]
    }
   ],
   "source": [
    "crp.data,crp.vocab  = load_data('data/babynames.txt')\n",
    "print(\"data sample = '{}' data len = {} vocab = {} vocab_len = {}\".\n",
    "               format(crp.data[0:20],len(crp.data), crp.vocab,len(crp.vocab)))"
   ]
  },
  {
   "cell_type": "markdown",
   "metadata": {},
   "source": [
    "## Create Encoder and Decoders"
   ]
  },
  {
   "cell_type": "code",
   "execution_count": 6,
   "metadata": {
    "ExecuteTime": {
     "end_time": "2018-11-21T12:09:21.891702Z",
     "start_time": "2018-11-21T12:09:21.888118Z"
    }
   },
   "outputs": [],
   "source": [
    "def get_encoder(crp):\n",
    "    return {c: i for i, c in enumerate(crp.vocab)}\n",
    "def get_decoder(crp):\n",
    "    return {i: c for i, c in enumerate(crp.vocab)}"
   ]
  },
  {
   "cell_type": "code",
   "execution_count": 7,
   "metadata": {
    "ExecuteTime": {
     "end_time": "2018-11-21T12:09:22.854556Z",
     "start_time": "2018-11-21T12:09:22.852893Z"
    }
   },
   "outputs": [],
   "source": [
    "# crp.encoder = get_encoder(crp)\n",
    "# crp.decoder = get_decoder(crp)"
   ]
  },
  {
   "cell_type": "markdown",
   "metadata": {},
   "source": [
    "## Slice the continous text data into list of features and Labels\n",
    " - For each name, prepend space so that each name of time step size.\n",
    " - Slide the window by one character until we get space\n",
    " - Tx = max(len(names))"
   ]
  },
  {
   "cell_type": "code",
   "execution_count": 8,
   "metadata": {
    "ExecuteTime": {
     "end_time": "2018-11-21T12:09:24.252423Z",
     "start_time": "2018-11-21T12:09:24.238918Z"
    }
   },
   "outputs": [],
   "source": [
    "def slice_name(name,Tx):\n",
    "    X=[]\n",
    "    Y=[]\n",
    "    name=\"%*s\"%(Tx,name)+'\\n'\n",
    "    for i in range(Tx):\n",
    "        if(name[:-1][-1] == ' '):\n",
    "            break\n",
    "        x=name[:-1]\n",
    "        y=name[-1]\n",
    "        X.append(x)\n",
    "        Y.append(y)\n",
    "        name = ' ' + name[:-1]\n",
    "    X.reverse()\n",
    "    Y.reverse()\n",
    "    return X,Y\n"
   ]
  },
  {
   "cell_type": "code",
   "execution_count": 9,
   "metadata": {
    "ExecuteTime": {
     "end_time": "2018-11-21T12:09:24.876655Z",
     "start_time": "2018-11-21T12:09:24.874888Z"
    }
   },
   "outputs": [
    {
     "name": "stdout",
     "output_type": "stream",
     "text": [
      "       m a 8\n",
      "      ma d 8\n",
      "     mad h 8\n",
      "    madh u 8\n",
      "   madhu \n",
      " 8\n"
     ]
    }
   ],
   "source": [
    "X,Y = slice_name('madhu',8)\n",
    "for x,y in zip(X,Y):\n",
    "    print(x,y,len(x))\n"
   ]
  },
  {
   "cell_type": "code",
   "execution_count": 10,
   "metadata": {
    "ExecuteTime": {
     "end_time": "2018-11-21T12:09:25.922025Z",
     "start_time": "2018-11-21T12:09:25.913175Z"
    }
   },
   "outputs": [],
   "source": [
    "def slice_data(data):\n",
    "    samples = data.split('\\n')\n",
    "    np.random.shuffle(samples)\n",
    "    Tx = len(max(samples,key=len))\n",
    "    feature = []\n",
    "    label   = []\n",
    "    for name in samples:\n",
    "        x,y = slice_name(name,Tx)\n",
    "        feature = feature + x\n",
    "        label   = label + y\n",
    "    return feature,label\n"
   ]
  },
  {
   "cell_type": "code",
   "execution_count": 11,
   "metadata": {
    "ExecuteTime": {
     "end_time": "2018-11-21T12:09:26.923406Z",
     "start_time": "2018-11-21T12:09:26.921741Z"
    }
   },
   "outputs": [],
   "source": [
    "crp.X,crp.Y = slice_data(crp.data)\n"
   ]
  },
  {
   "cell_type": "code",
   "execution_count": 12,
   "metadata": {
    "ExecuteTime": {
     "end_time": "2018-11-21T12:09:27.627723Z",
     "start_time": "2018-11-21T12:09:27.625881Z"
    }
   },
   "outputs": [
    {
     "name": "stdout",
     "output_type": "stream",
     "text": [
      "X[349] =             ozz Y[349] = y\n",
      "X[350] =            ozzy Y[350] = \n",
      "\n",
      "X[351] =               m Y[351] = e\n",
      "X[352] =              me Y[352] = l\n",
      "X[353] =             mel Y[353] = o\n",
      "X[354] =            melo Y[354] = s\n",
      "X[355] =           melos Y[355] = a\n",
      "X[356] =          melosa Y[356] = \n",
      "\n",
      "X[357] =               g Y[357] = u\n",
      "X[358] =              gu Y[358] = n\n"
     ]
    }
   ],
   "source": [
    "r = randint(1,len(crp.X))\n",
    "for i in range(10): \n",
    "    print(f\"X[{r+i}] = {crp.X[r+i]} Y[{r+i}] = {crp.Y[r+i]}\")\n"
   ]
  },
  {
   "cell_type": "markdown",
   "metadata": {},
   "source": [
    "## Update parameters (Tx, Vx, m)"
   ]
  },
  {
   "cell_type": "code",
   "execution_count": 13,
   "metadata": {
    "ExecuteTime": {
     "end_time": "2018-11-21T12:09:29.022909Z",
     "start_time": "2018-11-21T12:09:29.021033Z"
    }
   },
   "outputs": [],
   "source": [
    "# crp.Tx = len(crp.X[0])\n",
    "# crp.Vx = len(crp.vocab)\n",
    "# crp.m      = len(crp.X)\n"
   ]
  },
  {
   "cell_type": "code",
   "execution_count": 14,
   "metadata": {
    "ExecuteTime": {
     "end_time": "2018-11-21T12:09:29.658904Z",
     "start_time": "2018-11-21T12:09:29.657314Z"
    }
   },
   "outputs": [],
   "source": [
    "# print(crp)"
   ]
  },
  {
   "cell_type": "markdown",
   "metadata": {
    "ExecuteTime": {
     "end_time": "2018-11-21T07:03:01.353919Z",
     "start_time": "2018-11-21T07:03:01.352178Z"
    }
   },
   "source": [
    "## Feature Engineering\n",
    "    - Transform X data (m,Tx,Vx) to Y (m,1,Vx) i.e (m,Vx).\n",
    "    - Many to One RNN architecture\n",
    "    - Lets convert into one hot encoding\n"
   ]
  },
  {
   "cell_type": "code",
   "execution_count": 15,
   "metadata": {
    "ExecuteTime": {
     "end_time": "2018-11-21T12:09:30.839209Z",
     "start_time": "2018-11-21T12:09:30.823093Z"
    }
   },
   "outputs": [],
   "source": [
    "def encode_data(crp):        \n",
    "    # First each char after Tx, we will have one example.\n",
    "    feature = np.zeros((crp.m,crp.Tx))\n",
    "    label   = np.zeros(crp.m)\n",
    "        \n",
    "    for i in range (0, crp.m, 1):\n",
    "        sentence  = crp.X[i]\n",
    "        next_char = crp.Y[i]\n",
    "            \n",
    "        for j in range(crp.Tx):\n",
    "            feature[i,j] = crp.encoder[sentence[j]]\n",
    "            label[i]     = crp.encoder[next_char]\n",
    "\n",
    "    feature = to_categorical(feature,num_classes=crp.Vx)\n",
    "    label   = to_categorical(label,num_classes=crp.Vx)\n",
    "    return feature,label"
   ]
  },
  {
   "cell_type": "code",
   "execution_count": 16,
   "metadata": {
    "ExecuteTime": {
     "end_time": "2018-11-21T12:09:31.592889Z",
     "start_time": "2018-11-21T12:09:31.590979Z"
    }
   },
   "outputs": [],
   "source": [
    "# X,Y = encode_data(crp)\n",
    "\n",
    "# print(\"Sliced our corpus into {} examples. feature.shape (m,Tx,Vx) = {} label.shape (m,Vx) = {}\".\n",
    "#         format(crp.m, X.shape,Y.shape))\n"
   ]
  },
  {
   "cell_type": "code",
   "execution_count": null,
   "metadata": {},
   "outputs": [],
   "source": []
  },
  {
   "cell_type": "markdown",
   "metadata": {},
   "source": [
    "## Create Model\n",
    "    - LSTM model will remove Tx dimension if you don't specify return_sequences=True.\n",
    "    - In the predict, you can pass a random text of length upto Tx to kick start the prediction. Loop it after it gives each word."
   ]
  },
  {
   "cell_type": "code",
   "execution_count": null,
   "metadata": {},
   "outputs": [],
   "source": []
  },
  {
   "cell_type": "code",
   "execution_count": 17,
   "metadata": {
    "ExecuteTime": {
     "end_time": "2018-11-21T12:09:34.509792Z",
     "start_time": "2018-11-21T12:09:34.485028Z"
    }
   },
   "outputs": [],
   "source": [
    "def build_LSTM_model(units,Tx,Vx,layers=1,dropout=None):\n",
    "    model = Sequential()\n",
    "    for i in range(layers):\n",
    "        if(layers == 1):\n",
    "            model.add(LSTM(units, input_shape=(Tx,Vx)))\n",
    "        elif(i == 0): \n",
    "            model.add(LSTM(units, input_shape=(Tx,Vx),return_sequences=True))\n",
    "        elif(i != layers -1):\n",
    "            model.add(LSTM(units, return_sequences=True))\n",
    "        else:\n",
    "            model.add(LSTM(units))\n",
    "\n",
    "        if(dropout is not None):\n",
    "            model.add(Dropout(dropout))\n",
    "                    \n",
    "    model.add(Dense(Vx))\n",
    "    model.add(Activation('softmax'))\n",
    "    model.compile(loss='categorical_crossentropy', optimizer='adam')\n",
    "    return model"
   ]
  },
  {
   "cell_type": "code",
   "execution_count": 18,
   "metadata": {
    "ExecuteTime": {
     "end_time": "2018-11-21T12:09:35.384003Z",
     "start_time": "2018-11-21T12:09:35.382009Z"
    }
   },
   "outputs": [],
   "source": [
    "# model = build_LSTM_model(256,crp.Tx,crp.Vx)\n",
    "# model.summary()\n"
   ]
  },
  {
   "cell_type": "markdown",
   "metadata": {},
   "source": [
    "## Inference Logic"
   ]
  },
  {
   "cell_type": "code",
   "execution_count": 19,
   "metadata": {
    "ExecuteTime": {
     "end_time": "2018-11-21T12:49:33.600811Z",
     "start_time": "2018-11-21T12:49:33.563345Z"
    }
   },
   "outputs": [],
   "source": [
    "def generate_text(model, crp, seed_text,cnt):\n",
    "\n",
    "    def get_encoded_data(text):\n",
    "        X = np.zeros((1, crp.Tx, crp.Vx), dtype=np.bool)\n",
    "        for i, c in enumerate(text):\n",
    "            X[0, i, crp.encoder[c]] = 1    \n",
    "        return X\n",
    "\n",
    "    ret = []\n",
    "    \n",
    "    for t in range(cnt):\n",
    "        if(seed_text is None):\n",
    "            generated_text = ''+crp.decoder[randint(1,crp.Vx-1)]\n",
    "        else:\n",
    "            generated_text = seed_text\n",
    "        for i in range(crp.Tx):\n",
    "            generated_text =\"%*s\"%(crp.Tx,generated_text)\n",
    "            X = get_encoded_data(generated_text)\n",
    "            prediction = model.predict(X, verbose=0)\n",
    "            #prediction = crp.decoder[np.argmax(prediction)]\n",
    "            prediction = crp.decoder[np.random.choice(crp.Vx,p=prediction.ravel())]\n",
    "            if(prediction == '\\n'):\n",
    "                break\n",
    "            generated_text = generated_text.strip() + prediction  \n",
    "        ret.append(generated_text.strip())\n",
    "    return ret\n"
   ]
  },
  {
   "cell_type": "markdown",
   "metadata": {},
   "source": [
    "## Custom call back to save the final best model"
   ]
  },
  {
   "cell_type": "code",
   "execution_count": 20,
   "metadata": {
    "ExecuteTime": {
     "end_time": "2018-11-21T12:09:38.526529Z",
     "start_time": "2018-11-21T12:09:38.502873Z"
    }
   },
   "outputs": [],
   "source": [
    "class mycallback(Callback):\n",
    "    def __init__(self,crp,model_path):\n",
    "        super(mycallback, self).__init__()\n",
    "        self.best_model = None\n",
    "        self.best_loss  = 1000\n",
    "        self.best_epoch = -1\n",
    "        self.model_path = model_path\n",
    "        \n",
    "    def on_train_end(self, logs={}):\n",
    "        print(f'saving the model with loss = {self.best_loss} on epoch {self.best_epoch}')\n",
    "        self.best_model.save(self.model_path)\n",
    "        return\n",
    " \n",
    "    def on_epoch_end(self, epoch, logs={}):\n",
    "        loss = logs['loss']\n",
    "        if(loss < self.best_loss):\n",
    "            self.best_model = self.model\n",
    "            self.best_loss  = loss\n",
    "            self.best_epoch = epoch\n",
    "            print(generate_text(self.model,crp,None,10))\n",
    "        return \n"
   ]
  },
  {
   "cell_type": "code",
   "execution_count": 21,
   "metadata": {
    "ExecuteTime": {
     "end_time": "2018-11-21T12:09:54.695723Z",
     "start_time": "2018-11-21T12:09:54.693946Z"
    }
   },
   "outputs": [],
   "source": [
    "# hist = model.fit(X, Y, epochs=30, batch_size=128, callbacks=[mycallback(crp,'babynames-best.h5')])"
   ]
  },
  {
   "cell_type": "markdown",
   "metadata": {},
   "source": [
    "## <center> Execution </center>"
   ]
  },
  {
   "cell_type": "markdown",
   "metadata": {},
   "source": [
    "## Load and Preprocess Data"
   ]
  },
  {
   "cell_type": "code",
   "execution_count": 22,
   "metadata": {
    "ExecuteTime": {
     "end_time": "2018-11-21T12:10:11.401077Z",
     "start_time": "2018-11-21T12:10:09.951062Z"
    }
   },
   "outputs": [],
   "source": [
    "crp                 = corpus()\n",
    "crp.data,crp.vocab  = load_data('data/babynames.txt')\n",
    "crp.encoder         = get_encoder(crp)\n",
    "crp.decoder         = get_decoder(crp)\n",
    "\n",
    "\n",
    "crp.X,crp.Y         = slice_data(crp.data)\n",
    "crp.Tx              = len(crp.X[0])\n",
    "crp.Vx              = len(crp.vocab)\n",
    "crp.m               = len(crp.X)\n",
    "\n",
    "X,Y = encode_data(crp)\n",
    "\n"
   ]
  },
  {
   "cell_type": "markdown",
   "metadata": {
    "ExecuteTime": {
     "end_time": "2018-11-21T09:06:22.676658Z",
     "start_time": "2018-11-21T09:06:22.674682Z"
    }
   },
   "source": [
    "## create the model"
   ]
  },
  {
   "cell_type": "code",
   "execution_count": 23,
   "metadata": {
    "ExecuteTime": {
     "end_time": "2018-11-21T12:10:19.363623Z",
     "start_time": "2018-11-21T12:10:19.056302Z"
    }
   },
   "outputs": [
    {
     "name": "stderr",
     "output_type": "stream",
     "text": [
      "WARNING: Logging before flag parsing goes to stderr.\n",
      "W1120 14:18:28.601363 4734387648 deprecation_wrapper.py:119] From /Users/madhukandasamy/miniconda3/envs/py3.6/lib/python3.6/site-packages/keras/backend/tensorflow_backend.py:74: The name tf.get_default_graph is deprecated. Please use tf.compat.v1.get_default_graph instead.\n",
      "\n",
      "W1120 14:18:28.622963 4734387648 deprecation_wrapper.py:119] From /Users/madhukandasamy/miniconda3/envs/py3.6/lib/python3.6/site-packages/keras/backend/tensorflow_backend.py:517: The name tf.placeholder is deprecated. Please use tf.compat.v1.placeholder instead.\n",
      "\n",
      "W1120 14:18:28.627760 4734387648 deprecation_wrapper.py:119] From /Users/madhukandasamy/miniconda3/envs/py3.6/lib/python3.6/site-packages/keras/backend/tensorflow_backend.py:4138: The name tf.random_uniform is deprecated. Please use tf.random.uniform instead.\n",
      "\n",
      "W1120 14:18:28.915183 4734387648 deprecation_wrapper.py:119] From /Users/madhukandasamy/miniconda3/envs/py3.6/lib/python3.6/site-packages/keras/optimizers.py:790: The name tf.train.Optimizer is deprecated. Please use tf.compat.v1.train.Optimizer instead.\n",
      "\n",
      "W1120 14:18:28.934844 4734387648 deprecation_wrapper.py:119] From /Users/madhukandasamy/miniconda3/envs/py3.6/lib/python3.6/site-packages/keras/backend/tensorflow_backend.py:3295: The name tf.log is deprecated. Please use tf.math.log instead.\n",
      "\n"
     ]
    },
    {
     "name": "stdout",
     "output_type": "stream",
     "text": [
      "_________________________________________________________________\n",
      "Layer (type)                 Output Shape              Param #   \n",
      "=================================================================\n",
      "lstm_1 (LSTM)                (None, 256)               293888    \n",
      "_________________________________________________________________\n",
      "dense_1 (Dense)              (None, 30)                7710      \n",
      "_________________________________________________________________\n",
      "activation_1 (Activation)    (None, 30)                0         \n",
      "=================================================================\n",
      "Total params: 301,598\n",
      "Trainable params: 301,598\n",
      "Non-trainable params: 0\n",
      "_________________________________________________________________\n"
     ]
    }
   ],
   "source": [
    "model = build_LSTM_model(256,crp.Tx,crp.Vx)\n",
    "model.summary()"
   ]
  },
  {
   "cell_type": "code",
   "execution_count": null,
   "metadata": {},
   "outputs": [],
   "source": []
  },
  {
   "cell_type": "code",
   "execution_count": 24,
   "metadata": {
    "ExecuteTime": {
     "end_time": "2018-11-21T12:16:29.965506Z",
     "start_time": "2018-11-21T12:10:45.719979Z"
    }
   },
   "outputs": [
    {
     "name": "stderr",
     "output_type": "stream",
     "text": [
      "W1120 14:18:46.421600 4734387648 deprecation.py:323] From /Users/madhukandasamy/miniconda3/envs/py3.6/lib/python3.6/site-packages/tensorflow/python/ops/math_grad.py:1250: add_dispatch_support.<locals>.wrapper (from tensorflow.python.ops.array_ops) is deprecated and will be removed in a future version.\n",
      "Instructions for updating:\n",
      "Use tf.where in 2.0, which has the same broadcast rule as np.where\n",
      "W1120 14:18:46.994416 4734387648 deprecation_wrapper.py:119] From /Users/madhukandasamy/miniconda3/envs/py3.6/lib/python3.6/site-packages/keras/backend/tensorflow_backend.py:986: The name tf.assign_add is deprecated. Please use tf.compat.v1.assign_add instead.\n",
      "\n"
     ]
    },
    {
     "name": "stdout",
     "output_type": "stream",
     "text": [
      "Epoch 1/10\n",
      "47909/47909 [==============================] - 19s 393us/step - loss: 2.4242\n",
      "['duvle', 'vonssa', 'ytda', 'olead', 'bacinel', 'qelce', 'qunzel', 'ubelie', 'dina', '-amesla']\n",
      "Epoch 2/10\n",
      "47909/47909 [==============================] - 20s 411us/step - loss: 2.1190\n",
      "['herry', 'karie', 'trike', \"'cao\", 'watanayne', 'lynta', 'jesta', 'kassienenna', 'varera', 'wigceshen']\n",
      "Epoch 3/10\n",
      "47909/47909 [==============================] - 21s 443us/step - loss: 2.0285\n",
      "['oheity', 'barine', 'usferie', 'eenalbe', 'sundaro', 'zlomerlo', 'darvina', 'viwlare', 'donnitine', 'dohel']\n",
      "Epoch 4/10\n",
      "47909/47909 [==============================] - 21s 434us/step - loss: 1.9710\n",
      "['ursynela', 'lila', 'gaustw', 'ushaline', 'aancie', 'sopithy', 'dyve', '-igryetra', \"'anissa\", '-alana']\n",
      "Epoch 5/10\n",
      "47909/47909 [==============================] - 19s 401us/step - loss: 1.9225\n",
      "['nyv', 'werf', 'uli', '-eannic', 'zannel', 'sallee', 'willh', 'pere', 'teomer', 'wolletta']\n",
      "Epoch 6/10\n",
      "47909/47909 [==============================] - 18s 374us/step - loss: 1.8766\n",
      "['varcha', 'goranda', \"'onda\", 'brichel', 'charde', 'riclen', 'marrice', 'putti', 'fendala', 'stenhia']\n",
      "Epoch 7/10\n",
      "47909/47909 [==============================] - 18s 368us/step - loss: 1.8317\n",
      "['ile-marlene', 'nisie', 'zontee', 'johmieah', 'lyzze', 'taramine', 'eregh', 'lariee', 'zolaria', 'sudd']\n",
      "Epoch 8/10\n",
      "47909/47909 [==============================] - 18s 368us/step - loss: 1.7905\n",
      "['uphilis', 'bal', '-dein', 'zelly', 'sundalie', 'zuli', 'car', 'gortiephus', 'indwett', 'lutin']\n",
      "Epoch 9/10\n",
      "47909/47909 [==============================] - 18s 373us/step - loss: 1.7497\n",
      "['quante', 'regra', 'lverre', 'oren', 'pace', 'ubbie', 'kaim', 'yothie', 'toby', 'wistie']\n",
      "Epoch 10/10\n",
      "47909/47909 [==============================] - 16s 340us/step - loss: 1.7098\n",
      "['krissa', 'xenna', 'thimbreth', 'elvodore', 'zuan', 'fromern', 'lyodia', 'kaylen', 'onica', 'eylina']\n",
      "saving the model with loss = 1.7098069018892037 on epoch 9\n"
     ]
    }
   ],
   "source": [
    "hist = model.fit(X, Y, epochs=10, batch_size=128, verbose=1, callbacks=[mycallback(crp,'babynames-best.h5')])"
   ]
  },
  {
   "cell_type": "code",
   "execution_count": null,
   "metadata": {},
   "outputs": [],
   "source": []
  },
  {
   "cell_type": "code",
   "execution_count": null,
   "metadata": {},
   "outputs": [],
   "source": []
  },
  {
   "cell_type": "code",
   "execution_count": null,
   "metadata": {},
   "outputs": [],
   "source": []
  },
  {
   "cell_type": "code",
   "execution_count": null,
   "metadata": {},
   "outputs": [],
   "source": [
    "# mgpu_model = multi_gpu_model(model,gpus=2)\n",
    "# mgpu_model.compile(loss='categorical_crossentropy', optimizer='adam')\n",
    "# mgpu_model.fit(X, Y, epochs=30, batch_size=256) #, callbacks=callbacks)\n"
   ]
  },
  {
   "cell_type": "code",
   "execution_count": 30,
   "metadata": {
    "ExecuteTime": {
     "start_time": "2018-11-21T13:42:11.057Z"
    }
   },
   "outputs": [
    {
     "data": {
      "text/plain": [
       "['madie',\n",
       " 'madia',\n",
       " 'madrie',\n",
       " 'madelsa',\n",
       " 'madelins',\n",
       " 'madris',\n",
       " 'madianty',\n",
       " 'madette',\n",
       " 'madeasne',\n",
       " 'madrise',\n",
       " 'mada',\n",
       " 'madich',\n",
       " 'madran',\n",
       " 'madenia',\n",
       " 'madrio',\n",
       " 'madian',\n",
       " 'madam',\n",
       " 'madele',\n",
       " 'madsee',\n",
       " 'madna',\n",
       " 'madel',\n",
       " 'madila',\n",
       " 'mad',\n",
       " 'mady',\n",
       " 'madsia',\n",
       " 'madra',\n",
       " 'madala',\n",
       " 'madian',\n",
       " 'madelie',\n",
       " 'madgiette',\n",
       " 'maderiette',\n",
       " 'madvit',\n",
       " 'madfie',\n",
       " 'madol',\n",
       " 'madersch',\n",
       " 'madelia',\n",
       " 'madyanne',\n",
       " 'mademar',\n",
       " 'madianne',\n",
       " 'madeis',\n",
       " 'madden',\n",
       " 'madgit',\n",
       " 'madeensie',\n",
       " 'madras',\n",
       " 'madaria',\n",
       " 'madelita',\n",
       " 'madelie',\n",
       " 'madolee',\n",
       " 'madilanne',\n",
       " 'mada',\n",
       " 'madeline',\n",
       " 'madie',\n",
       " 'madoh',\n",
       " 'maderite',\n",
       " 'madgianne',\n",
       " 'madyoh',\n",
       " 'madimar',\n",
       " 'madjen',\n",
       " 'madette',\n",
       " 'madilia',\n",
       " 'madine',\n",
       " 'madymanye',\n",
       " 'madella',\n",
       " 'madionne',\n",
       " 'madest',\n",
       " 'madrye',\n",
       " 'madilynne',\n",
       " 'madetta',\n",
       " 'madeline',\n",
       " 'madraid',\n",
       " 'madikki',\n",
       " 'madina',\n",
       " 'madal',\n",
       " 'madila',\n",
       " 'madilyn',\n",
       " 'madian',\n",
       " 'madida',\n",
       " 'madci',\n",
       " 'madya',\n",
       " 'madius',\n",
       " 'madimet',\n",
       " 'madson',\n",
       " 'madasta',\n",
       " 'madusty',\n",
       " 'madyol',\n",
       " 'madelina',\n",
       " 'madeste',\n",
       " 'madyl',\n",
       " 'maduus',\n",
       " 'madaline',\n",
       " 'mados',\n",
       " 'madily',\n",
       " 'madwisla',\n",
       " 'madton',\n",
       " 'maddran',\n",
       " 'madice',\n",
       " 'madja',\n",
       " 'madya',\n",
       " 'madgai',\n",
       " 'madiate']"
      ]
     },
     "execution_count": 30,
     "metadata": {},
     "output_type": "execute_result"
    }
   ],
   "source": [
    "generate_text(model,crp,'mad',100)"
   ]
  },
  {
   "cell_type": "code",
   "execution_count": null,
   "metadata": {},
   "outputs": [],
   "source": []
  },
  {
   "cell_type": "code",
   "execution_count": null,
   "metadata": {},
   "outputs": [],
   "source": []
  }
 ],
 "metadata": {
  "kernelspec": {
   "display_name": "Python 3",
   "language": "python",
   "name": "python3"
  },
  "language_info": {
   "codemirror_mode": {
    "name": "ipython",
    "version": 3
   },
   "file_extension": ".py",
   "mimetype": "text/x-python",
   "name": "python",
   "nbconvert_exporter": "python",
   "pygments_lexer": "ipython3",
   "version": "3.6.8"
  }
 },
 "nbformat": 4,
 "nbformat_minor": 2
}
